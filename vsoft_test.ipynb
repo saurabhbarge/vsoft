{
 "cells": [
  {
   "cell_type": "markdown",
   "id": "e9052d2d",
   "metadata": {},
   "source": [
    "**Importing Libraries**"
   ]
  },
  {
   "cell_type": "code",
   "execution_count": 1,
   "id": "c4733360",
   "metadata": {},
   "outputs": [],
   "source": [
    "import pandas as pd\n",
    "import numpy as np\n",
    "import seaborn as sns\n",
    "from matplotlib import pyplot as plt\n",
    "%matplotlib inline\n",
    "from sklearn import preprocessing\n",
    "from sklearn.metrics import r2_score\n",
    "from sklearn.linear_model import LinearRegression\n",
    "from sklearn.ensemble import RandomForestRegressor\n",
    "from sklearn.ensemble import ExtraTreesRegressor\n",
    "from statsmodels.stats.outliers_influence import variance_inflation_factor\n",
    "from sklearn.model_selection import train_test_split\n",
    "# !pip install xgboost\n",
    "from xgboost import XGBRegressor"
   ]
  },
  {
   "cell_type": "markdown",
   "id": "99ace6bc",
   "metadata": {},
   "source": [
    "**Loading and reading the data**"
   ]
  },
  {
   "cell_type": "code",
   "execution_count": 2,
   "id": "899892d4",
   "metadata": {},
   "outputs": [],
   "source": [
    "genom = pd.read_csv(\"D:\\MscDataScience\\Teeside\\miller2005_genomicMatrix.csv\",sep = '\\t')"
   ]
  },
  {
   "cell_type": "code",
   "execution_count": 3,
   "id": "2ba6951f",
   "metadata": {},
   "outputs": [],
   "source": [
    "pheno = pd.read_csv(\"D:\\MscDataScience\\Teeside\\miller2005_public_clinicalMatrix.csv\",sep='\\t')"
   ]
  },
  {
   "cell_type": "code",
   "execution_count": 4,
   "id": "ba9a1914",
   "metadata": {},
   "outputs": [
    {
     "data": {
      "text/html": [
       "<div>\n",
       "<style scoped>\n",
       "    .dataframe tbody tr th:only-of-type {\n",
       "        vertical-align: middle;\n",
       "    }\n",
       "\n",
       "    .dataframe tbody tr th {\n",
       "        vertical-align: top;\n",
       "    }\n",
       "\n",
       "    .dataframe thead th {\n",
       "        text-align: right;\n",
       "    }\n",
       "</style>\n",
       "<table border=\"1\" class=\"dataframe\">\n",
       "  <thead>\n",
       "    <tr style=\"text-align: right;\">\n",
       "      <th></th>\n",
       "      <th>sampleID</th>\n",
       "      <th>AgeAtDiagnosis</th>\n",
       "      <th>DLDAerror</th>\n",
       "      <th>DSS</th>\n",
       "      <th>DSS.time</th>\n",
       "      <th>ERstatus</th>\n",
       "      <th>EistonHistologicGrade</th>\n",
       "      <th>LymphNodeStatus</th>\n",
       "      <th>PgRstatus</th>\n",
       "      <th>TumorSize</th>\n",
       "      <th>_INTEGRATION</th>\n",
       "      <th>_PATIENT</th>\n",
       "      <th>p53DLDAclassResult</th>\n",
       "      <th>p53mutant</th>\n",
       "      <th>_GENOMIC_ID_miller2005</th>\n",
       "    </tr>\n",
       "  </thead>\n",
       "  <tbody>\n",
       "    <tr>\n",
       "      <th>0</th>\n",
       "      <td>X100B08</td>\n",
       "      <td>68</td>\n",
       "      <td>No</td>\n",
       "      <td>AliveOrCensored</td>\n",
       "      <td>12.0</td>\n",
       "      <td>ER+</td>\n",
       "      <td>G1</td>\n",
       "      <td>LN-</td>\n",
       "      <td>PgR-</td>\n",
       "      <td>9.0</td>\n",
       "      <td>X100B08</td>\n",
       "      <td>X100B08</td>\n",
       "      <td>WT-like</td>\n",
       "      <td>p53-</td>\n",
       "      <td>X100B08</td>\n",
       "    </tr>\n",
       "    <tr>\n",
       "      <th>1</th>\n",
       "      <td>X101B88</td>\n",
       "      <td>40</td>\n",
       "      <td>No</td>\n",
       "      <td>AliveOrCensored</td>\n",
       "      <td>12.0</td>\n",
       "      <td>ER-</td>\n",
       "      <td>G3</td>\n",
       "      <td>LN-</td>\n",
       "      <td>PgR-</td>\n",
       "      <td>12.0</td>\n",
       "      <td>X101B88</td>\n",
       "      <td>X101B88</td>\n",
       "      <td>MT-like</td>\n",
       "      <td>p53+</td>\n",
       "      <td>X101B88</td>\n",
       "    </tr>\n",
       "    <tr>\n",
       "      <th>2</th>\n",
       "      <td>X102B06</td>\n",
       "      <td>51</td>\n",
       "      <td>No</td>\n",
       "      <td>AliveOrCensored</td>\n",
       "      <td>12.0</td>\n",
       "      <td>ER+</td>\n",
       "      <td>G3</td>\n",
       "      <td>LN-</td>\n",
       "      <td>PgR+</td>\n",
       "      <td>26.0</td>\n",
       "      <td>X102B06</td>\n",
       "      <td>X102B06</td>\n",
       "      <td>MT-like</td>\n",
       "      <td>p53+</td>\n",
       "      <td>X102B06</td>\n",
       "    </tr>\n",
       "    <tr>\n",
       "      <th>3</th>\n",
       "      <td>X103B41</td>\n",
       "      <td>52</td>\n",
       "      <td>Yes</td>\n",
       "      <td>NaN</td>\n",
       "      <td>NaN</td>\n",
       "      <td>ER-</td>\n",
       "      <td>G3</td>\n",
       "      <td>LN+</td>\n",
       "      <td>PgR-</td>\n",
       "      <td>22.0</td>\n",
       "      <td>X103B41</td>\n",
       "      <td>X103B41</td>\n",
       "      <td>MT-like</td>\n",
       "      <td>p53-</td>\n",
       "      <td>X103B41</td>\n",
       "    </tr>\n",
       "    <tr>\n",
       "      <th>4</th>\n",
       "      <td>X104B91</td>\n",
       "      <td>80</td>\n",
       "      <td>Yes</td>\n",
       "      <td>AliveOrCensored</td>\n",
       "      <td>4.0</td>\n",
       "      <td>ER+</td>\n",
       "      <td>G3</td>\n",
       "      <td>NaN</td>\n",
       "      <td>PgR+</td>\n",
       "      <td>24.0</td>\n",
       "      <td>X104B91</td>\n",
       "      <td>X104B91</td>\n",
       "      <td>WT-like</td>\n",
       "      <td>p53+</td>\n",
       "      <td>X104B91</td>\n",
       "    </tr>\n",
       "  </tbody>\n",
       "</table>\n",
       "</div>"
      ],
      "text/plain": [
       "  sampleID  AgeAtDiagnosis DLDAerror              DSS  DSS.time ERstatus  \\\n",
       "0  X100B08              68        No  AliveOrCensored      12.0      ER+   \n",
       "1  X101B88              40        No  AliveOrCensored      12.0      ER-   \n",
       "2  X102B06              51        No  AliveOrCensored      12.0      ER+   \n",
       "3  X103B41              52       Yes              NaN       NaN      ER-   \n",
       "4  X104B91              80       Yes  AliveOrCensored       4.0      ER+   \n",
       "\n",
       "  EistonHistologicGrade LymphNodeStatus PgRstatus  TumorSize _INTEGRATION  \\\n",
       "0                    G1             LN-      PgR-        9.0      X100B08   \n",
       "1                    G3             LN-      PgR-       12.0      X101B88   \n",
       "2                    G3             LN-      PgR+       26.0      X102B06   \n",
       "3                    G3             LN+      PgR-       22.0      X103B41   \n",
       "4                    G3             NaN      PgR+       24.0      X104B91   \n",
       "\n",
       "  _PATIENT p53DLDAclassResult p53mutant _GENOMIC_ID_miller2005  \n",
       "0  X100B08            WT-like      p53-                X100B08  \n",
       "1  X101B88            MT-like      p53+                X101B88  \n",
       "2  X102B06            MT-like      p53+                X102B06  \n",
       "3  X103B41            MT-like      p53-                X103B41  \n",
       "4  X104B91            WT-like      p53+                X104B91  "
      ]
     },
     "execution_count": 4,
     "metadata": {},
     "output_type": "execute_result"
    }
   ],
   "source": [
    "pheno.head()"
   ]
  },
  {
   "cell_type": "code",
   "execution_count": 5,
   "id": "64c1a674",
   "metadata": {},
   "outputs": [
    {
     "data": {
      "text/html": [
       "<div>\n",
       "<style scoped>\n",
       "    .dataframe tbody tr th:only-of-type {\n",
       "        vertical-align: middle;\n",
       "    }\n",
       "\n",
       "    .dataframe tbody tr th {\n",
       "        vertical-align: top;\n",
       "    }\n",
       "\n",
       "    .dataframe thead th {\n",
       "        text-align: right;\n",
       "    }\n",
       "</style>\n",
       "<table border=\"1\" class=\"dataframe\">\n",
       "  <thead>\n",
       "    <tr style=\"text-align: right;\">\n",
       "      <th></th>\n",
       "      <th>probe</th>\n",
       "      <th>X100B08</th>\n",
       "      <th>X101B88</th>\n",
       "      <th>X102B06</th>\n",
       "      <th>X103B41</th>\n",
       "      <th>X104B91</th>\n",
       "      <th>X105B13</th>\n",
       "      <th>X106B55</th>\n",
       "      <th>X10B88</th>\n",
       "      <th>X110B34</th>\n",
       "      <th>...</th>\n",
       "      <th>X85A03</th>\n",
       "      <th>X86A40</th>\n",
       "      <th>X87A79</th>\n",
       "      <th>X88A67</th>\n",
       "      <th>X8B87</th>\n",
       "      <th>X90A63</th>\n",
       "      <th>X94A16</th>\n",
       "      <th>X96A21</th>\n",
       "      <th>X99A50</th>\n",
       "      <th>X9B52</th>\n",
       "    </tr>\n",
       "  </thead>\n",
       "  <tbody>\n",
       "    <tr>\n",
       "      <th>0</th>\n",
       "      <td>211050_x_at</td>\n",
       "      <td>-0.606098</td>\n",
       "      <td>-0.712117</td>\n",
       "      <td>-0.249024</td>\n",
       "      <td>0.473394</td>\n",
       "      <td>-0.549072</td>\n",
       "      <td>-0.309201</td>\n",
       "      <td>0.418973</td>\n",
       "      <td>-0.394657</td>\n",
       "      <td>-0.472516</td>\n",
       "      <td>...</td>\n",
       "      <td>0.194257</td>\n",
       "      <td>-0.014784</td>\n",
       "      <td>0.134075</td>\n",
       "      <td>-0.199902</td>\n",
       "      <td>0.118920</td>\n",
       "      <td>-0.379270</td>\n",
       "      <td>0.820076</td>\n",
       "      <td>-0.045577</td>\n",
       "      <td>-0.024553</td>\n",
       "      <td>0.270666</td>\n",
       "    </tr>\n",
       "    <tr>\n",
       "      <th>1</th>\n",
       "      <td>220399_at</td>\n",
       "      <td>0.297762</td>\n",
       "      <td>0.108554</td>\n",
       "      <td>0.529916</td>\n",
       "      <td>-0.023698</td>\n",
       "      <td>-0.240675</td>\n",
       "      <td>-0.186095</td>\n",
       "      <td>0.002805</td>\n",
       "      <td>-0.131806</td>\n",
       "      <td>0.113295</td>\n",
       "      <td>...</td>\n",
       "      <td>0.158997</td>\n",
       "      <td>0.228585</td>\n",
       "      <td>-1.618250</td>\n",
       "      <td>-0.237390</td>\n",
       "      <td>0.228423</td>\n",
       "      <td>-0.433717</td>\n",
       "      <td>-1.760925</td>\n",
       "      <td>0.290775</td>\n",
       "      <td>0.248707</td>\n",
       "      <td>-0.022792</td>\n",
       "    </tr>\n",
       "    <tr>\n",
       "      <th>2</th>\n",
       "      <td>202115_s_at</td>\n",
       "      <td>-0.020720</td>\n",
       "      <td>-0.329813</td>\n",
       "      <td>-0.455560</td>\n",
       "      <td>0.335867</td>\n",
       "      <td>0.091474</td>\n",
       "      <td>-0.064934</td>\n",
       "      <td>0.232192</td>\n",
       "      <td>-0.024533</td>\n",
       "      <td>0.390957</td>\n",
       "      <td>...</td>\n",
       "      <td>0.611860</td>\n",
       "      <td>0.303448</td>\n",
       "      <td>0.073593</td>\n",
       "      <td>-0.082835</td>\n",
       "      <td>0.133630</td>\n",
       "      <td>0.055395</td>\n",
       "      <td>0.071154</td>\n",
       "      <td>-0.114437</td>\n",
       "      <td>0.242833</td>\n",
       "      <td>0.218242</td>\n",
       "    </tr>\n",
       "    <tr>\n",
       "      <th>3</th>\n",
       "      <td>224501_at</td>\n",
       "      <td>0.019116</td>\n",
       "      <td>-0.508560</td>\n",
       "      <td>0.056202</td>\n",
       "      <td>-0.011279</td>\n",
       "      <td>0.189046</td>\n",
       "      <td>0.696562</td>\n",
       "      <td>0.192982</td>\n",
       "      <td>-0.319991</td>\n",
       "      <td>-0.243859</td>\n",
       "      <td>...</td>\n",
       "      <td>0.209864</td>\n",
       "      <td>0.215092</td>\n",
       "      <td>-0.323448</td>\n",
       "      <td>-0.020308</td>\n",
       "      <td>0.214315</td>\n",
       "      <td>0.212823</td>\n",
       "      <td>0.368002</td>\n",
       "      <td>0.207986</td>\n",
       "      <td>0.267993</td>\n",
       "      <td>0.791909</td>\n",
       "    </tr>\n",
       "    <tr>\n",
       "      <th>4</th>\n",
       "      <td>227347_x_at</td>\n",
       "      <td>0.217003</td>\n",
       "      <td>0.750269</td>\n",
       "      <td>0.469504</td>\n",
       "      <td>-0.182406</td>\n",
       "      <td>-0.472260</td>\n",
       "      <td>0.294003</td>\n",
       "      <td>0.147632</td>\n",
       "      <td>0.462857</td>\n",
       "      <td>0.781625</td>\n",
       "      <td>...</td>\n",
       "      <td>-0.792750</td>\n",
       "      <td>0.744523</td>\n",
       "      <td>0.156747</td>\n",
       "      <td>-0.060445</td>\n",
       "      <td>0.107039</td>\n",
       "      <td>-0.192824</td>\n",
       "      <td>0.030753</td>\n",
       "      <td>-0.463569</td>\n",
       "      <td>0.116094</td>\n",
       "      <td>-0.142529</td>\n",
       "    </tr>\n",
       "  </tbody>\n",
       "</table>\n",
       "<p>5 rows × 252 columns</p>\n",
       "</div>"
      ],
      "text/plain": [
       "         probe   X100B08   X101B88   X102B06   X103B41   X104B91   X105B13  \\\n",
       "0  211050_x_at -0.606098 -0.712117 -0.249024  0.473394 -0.549072 -0.309201   \n",
       "1    220399_at  0.297762  0.108554  0.529916 -0.023698 -0.240675 -0.186095   \n",
       "2  202115_s_at -0.020720 -0.329813 -0.455560  0.335867  0.091474 -0.064934   \n",
       "3    224501_at  0.019116 -0.508560  0.056202 -0.011279  0.189046  0.696562   \n",
       "4  227347_x_at  0.217003  0.750269  0.469504 -0.182406 -0.472260  0.294003   \n",
       "\n",
       "    X106B55    X10B88   X110B34  ...    X85A03    X86A40    X87A79    X88A67  \\\n",
       "0  0.418973 -0.394657 -0.472516  ...  0.194257 -0.014784  0.134075 -0.199902   \n",
       "1  0.002805 -0.131806  0.113295  ...  0.158997  0.228585 -1.618250 -0.237390   \n",
       "2  0.232192 -0.024533  0.390957  ...  0.611860  0.303448  0.073593 -0.082835   \n",
       "3  0.192982 -0.319991 -0.243859  ...  0.209864  0.215092 -0.323448 -0.020308   \n",
       "4  0.147632  0.462857  0.781625  ... -0.792750  0.744523  0.156747 -0.060445   \n",
       "\n",
       "      X8B87    X90A63    X94A16    X96A21    X99A50     X9B52  \n",
       "0  0.118920 -0.379270  0.820076 -0.045577 -0.024553  0.270666  \n",
       "1  0.228423 -0.433717 -1.760925  0.290775  0.248707 -0.022792  \n",
       "2  0.133630  0.055395  0.071154 -0.114437  0.242833  0.218242  \n",
       "3  0.214315  0.212823  0.368002  0.207986  0.267993  0.791909  \n",
       "4  0.107039 -0.192824  0.030753 -0.463569  0.116094 -0.142529  \n",
       "\n",
       "[5 rows x 252 columns]"
      ]
     },
     "execution_count": 5,
     "metadata": {},
     "output_type": "execute_result"
    }
   ],
   "source": [
    "genom.head()"
   ]
  },
  {
   "cell_type": "code",
   "execution_count": 6,
   "id": "4a7b0e66",
   "metadata": {},
   "outputs": [
    {
     "data": {
      "text/plain": [
       "(24711, 252)"
      ]
     },
     "execution_count": 6,
     "metadata": {},
     "output_type": "execute_result"
    }
   ],
   "source": [
    "genom.shape"
   ]
  },
  {
   "cell_type": "code",
   "execution_count": 7,
   "id": "c2a87d87",
   "metadata": {},
   "outputs": [],
   "source": [
    "genom = genom.swapaxes('columns','index') # changing the axes according to requirement"
   ]
  },
  {
   "cell_type": "code",
   "execution_count": 8,
   "id": "000bb96e",
   "metadata": {},
   "outputs": [
    {
     "data": {
      "text/html": [
       "<div>\n",
       "<style scoped>\n",
       "    .dataframe tbody tr th:only-of-type {\n",
       "        vertical-align: middle;\n",
       "    }\n",
       "\n",
       "    .dataframe tbody tr th {\n",
       "        vertical-align: top;\n",
       "    }\n",
       "\n",
       "    .dataframe thead th {\n",
       "        text-align: right;\n",
       "    }\n",
       "</style>\n",
       "<table border=\"1\" class=\"dataframe\">\n",
       "  <thead>\n",
       "    <tr style=\"text-align: right;\">\n",
       "      <th></th>\n",
       "      <th>0</th>\n",
       "      <th>1</th>\n",
       "      <th>2</th>\n",
       "      <th>3</th>\n",
       "      <th>4</th>\n",
       "      <th>5</th>\n",
       "      <th>6</th>\n",
       "      <th>7</th>\n",
       "      <th>8</th>\n",
       "      <th>9</th>\n",
       "      <th>...</th>\n",
       "      <th>24701</th>\n",
       "      <th>24702</th>\n",
       "      <th>24703</th>\n",
       "      <th>24704</th>\n",
       "      <th>24705</th>\n",
       "      <th>24706</th>\n",
       "      <th>24707</th>\n",
       "      <th>24708</th>\n",
       "      <th>24709</th>\n",
       "      <th>24710</th>\n",
       "    </tr>\n",
       "  </thead>\n",
       "  <tbody>\n",
       "    <tr>\n",
       "      <th>probe</th>\n",
       "      <td>211050_x_at</td>\n",
       "      <td>220399_at</td>\n",
       "      <td>202115_s_at</td>\n",
       "      <td>224501_at</td>\n",
       "      <td>227347_x_at</td>\n",
       "      <td>205483_s_at</td>\n",
       "      <td>212283_at</td>\n",
       "      <td>212285_s_at</td>\n",
       "      <td>217419_x_at</td>\n",
       "      <td>217410_at</td>\n",
       "      <td>...</td>\n",
       "      <td>216922_x_at</td>\n",
       "      <td>208331_at</td>\n",
       "      <td>211461_at</td>\n",
       "      <td>232402_at</td>\n",
       "      <td>207647_at</td>\n",
       "      <td>207646_s_at</td>\n",
       "      <td>207916_at</td>\n",
       "      <td>202829_s_at</td>\n",
       "      <td>214950_at</td>\n",
       "      <td>208164_s_at</td>\n",
       "    </tr>\n",
       "    <tr>\n",
       "      <th>X100B08</th>\n",
       "      <td>-0.606098</td>\n",
       "      <td>0.297762</td>\n",
       "      <td>-0.02072</td>\n",
       "      <td>0.019116</td>\n",
       "      <td>0.217003</td>\n",
       "      <td>-0.959766</td>\n",
       "      <td>0.31906</td>\n",
       "      <td>0.267431</td>\n",
       "      <td>0.054625</td>\n",
       "      <td>0.285226</td>\n",
       "      <td>...</td>\n",
       "      <td>0.585269</td>\n",
       "      <td>0.677886</td>\n",
       "      <td>0.294886</td>\n",
       "      <td>0.334739</td>\n",
       "      <td>-0.922423</td>\n",
       "      <td>0.525822</td>\n",
       "      <td>0.65593</td>\n",
       "      <td>-0.373383</td>\n",
       "      <td>0.533709</td>\n",
       "      <td>0.9551</td>\n",
       "    </tr>\n",
       "    <tr>\n",
       "      <th>X101B88</th>\n",
       "      <td>-0.712117</td>\n",
       "      <td>0.108554</td>\n",
       "      <td>-0.329813</td>\n",
       "      <td>-0.50856</td>\n",
       "      <td>0.750269</td>\n",
       "      <td>-0.739374</td>\n",
       "      <td>-0.635076</td>\n",
       "      <td>0.404148</td>\n",
       "      <td>0.553476</td>\n",
       "      <td>0.111349</td>\n",
       "      <td>...</td>\n",
       "      <td>0.34349</td>\n",
       "      <td>-0.37717</td>\n",
       "      <td>-0.146836</td>\n",
       "      <td>-0.027103</td>\n",
       "      <td>0.108189</td>\n",
       "      <td>-0.108456</td>\n",
       "      <td>0.800626</td>\n",
       "      <td>0.047387</td>\n",
       "      <td>-0.630866</td>\n",
       "      <td>0.550008</td>\n",
       "    </tr>\n",
       "    <tr>\n",
       "      <th>X102B06</th>\n",
       "      <td>-0.249024</td>\n",
       "      <td>0.529916</td>\n",
       "      <td>-0.45556</td>\n",
       "      <td>0.056202</td>\n",
       "      <td>0.469504</td>\n",
       "      <td>0.436696</td>\n",
       "      <td>0.253222</td>\n",
       "      <td>0.236894</td>\n",
       "      <td>0.263844</td>\n",
       "      <td>-0.744438</td>\n",
       "      <td>...</td>\n",
       "      <td>-1.192292</td>\n",
       "      <td>-0.264924</td>\n",
       "      <td>-0.403073</td>\n",
       "      <td>-0.273291</td>\n",
       "      <td>0.408303</td>\n",
       "      <td>0.256424</td>\n",
       "      <td>0.052404</td>\n",
       "      <td>-0.076766</td>\n",
       "      <td>0.170939</td>\n",
       "      <td>-0.016254</td>\n",
       "    </tr>\n",
       "    <tr>\n",
       "      <th>X103B41</th>\n",
       "      <td>0.473394</td>\n",
       "      <td>-0.023698</td>\n",
       "      <td>0.335867</td>\n",
       "      <td>-0.011279</td>\n",
       "      <td>-0.182406</td>\n",
       "      <td>0.913891</td>\n",
       "      <td>0.134585</td>\n",
       "      <td>0.468412</td>\n",
       "      <td>0.508557</td>\n",
       "      <td>0.727947</td>\n",
       "      <td>...</td>\n",
       "      <td>0.233813</td>\n",
       "      <td>-0.182134</td>\n",
       "      <td>-0.132613</td>\n",
       "      <td>0.314508</td>\n",
       "      <td>0.147834</td>\n",
       "      <td>-0.766659</td>\n",
       "      <td>-1.517961</td>\n",
       "      <td>0.487872</td>\n",
       "      <td>0.394624</td>\n",
       "      <td>0.440938</td>\n",
       "    </tr>\n",
       "  </tbody>\n",
       "</table>\n",
       "<p>5 rows × 24711 columns</p>\n",
       "</div>"
      ],
      "text/plain": [
       "               0          1            2          3            4      \\\n",
       "probe    211050_x_at  220399_at  202115_s_at  224501_at  227347_x_at   \n",
       "X100B08    -0.606098   0.297762     -0.02072   0.019116     0.217003   \n",
       "X101B88    -0.712117   0.108554    -0.329813   -0.50856     0.750269   \n",
       "X102B06    -0.249024   0.529916     -0.45556   0.056202     0.469504   \n",
       "X103B41     0.473394  -0.023698     0.335867  -0.011279    -0.182406   \n",
       "\n",
       "               5          6            7            8          9      ...  \\\n",
       "probe    205483_s_at  212283_at  212285_s_at  217419_x_at  217410_at  ...   \n",
       "X100B08    -0.959766    0.31906     0.267431     0.054625   0.285226  ...   \n",
       "X101B88    -0.739374  -0.635076     0.404148     0.553476   0.111349  ...   \n",
       "X102B06     0.436696   0.253222     0.236894     0.263844  -0.744438  ...   \n",
       "X103B41     0.913891   0.134585     0.468412     0.508557   0.727947  ...   \n",
       "\n",
       "               24701      24702      24703      24704      24705        24706  \\\n",
       "probe    216922_x_at  208331_at  211461_at  232402_at  207647_at  207646_s_at   \n",
       "X100B08     0.585269   0.677886   0.294886   0.334739  -0.922423     0.525822   \n",
       "X101B88      0.34349   -0.37717  -0.146836  -0.027103   0.108189    -0.108456   \n",
       "X102B06    -1.192292  -0.264924  -0.403073  -0.273291   0.408303     0.256424   \n",
       "X103B41     0.233813  -0.182134  -0.132613   0.314508   0.147834    -0.766659   \n",
       "\n",
       "             24707        24708      24709        24710  \n",
       "probe    207916_at  202829_s_at  214950_at  208164_s_at  \n",
       "X100B08    0.65593    -0.373383   0.533709       0.9551  \n",
       "X101B88   0.800626     0.047387  -0.630866     0.550008  \n",
       "X102B06   0.052404    -0.076766   0.170939    -0.016254  \n",
       "X103B41  -1.517961     0.487872   0.394624     0.440938  \n",
       "\n",
       "[5 rows x 24711 columns]"
      ]
     },
     "execution_count": 8,
     "metadata": {},
     "output_type": "execute_result"
    }
   ],
   "source": [
    "genom.head()"
   ]
  },
  {
   "cell_type": "code",
   "execution_count": 9,
   "id": "d0114df0",
   "metadata": {},
   "outputs": [],
   "source": [
    "genom = genom.rename(columns=genom.iloc[0])"
   ]
  },
  {
   "cell_type": "code",
   "execution_count": 10,
   "id": "18a40b3c",
   "metadata": {},
   "outputs": [],
   "source": [
    "genom = genom.iloc[1: , :]"
   ]
  },
  {
   "cell_type": "code",
   "execution_count": 11,
   "id": "e03f4c24",
   "metadata": {},
   "outputs": [
    {
     "data": {
      "text/html": [
       "<div>\n",
       "<style scoped>\n",
       "    .dataframe tbody tr th:only-of-type {\n",
       "        vertical-align: middle;\n",
       "    }\n",
       "\n",
       "    .dataframe tbody tr th {\n",
       "        vertical-align: top;\n",
       "    }\n",
       "\n",
       "    .dataframe thead th {\n",
       "        text-align: right;\n",
       "    }\n",
       "</style>\n",
       "<table border=\"1\" class=\"dataframe\">\n",
       "  <thead>\n",
       "    <tr style=\"text-align: right;\">\n",
       "      <th></th>\n",
       "      <th>211050_x_at</th>\n",
       "      <th>220399_at</th>\n",
       "      <th>202115_s_at</th>\n",
       "      <th>224501_at</th>\n",
       "      <th>227347_x_at</th>\n",
       "      <th>205483_s_at</th>\n",
       "      <th>212283_at</th>\n",
       "      <th>212285_s_at</th>\n",
       "      <th>217419_x_at</th>\n",
       "      <th>217410_at</th>\n",
       "      <th>...</th>\n",
       "      <th>216922_x_at</th>\n",
       "      <th>208331_at</th>\n",
       "      <th>211461_at</th>\n",
       "      <th>232402_at</th>\n",
       "      <th>207647_at</th>\n",
       "      <th>207646_s_at</th>\n",
       "      <th>207916_at</th>\n",
       "      <th>202829_s_at</th>\n",
       "      <th>214950_at</th>\n",
       "      <th>208164_s_at</th>\n",
       "    </tr>\n",
       "  </thead>\n",
       "  <tbody>\n",
       "    <tr>\n",
       "      <th>X100B08</th>\n",
       "      <td>-0.606098</td>\n",
       "      <td>0.297762</td>\n",
       "      <td>-0.02072</td>\n",
       "      <td>0.019116</td>\n",
       "      <td>0.217003</td>\n",
       "      <td>-0.959766</td>\n",
       "      <td>0.31906</td>\n",
       "      <td>0.267431</td>\n",
       "      <td>0.054625</td>\n",
       "      <td>0.285226</td>\n",
       "      <td>...</td>\n",
       "      <td>0.585269</td>\n",
       "      <td>0.677886</td>\n",
       "      <td>0.294886</td>\n",
       "      <td>0.334739</td>\n",
       "      <td>-0.922423</td>\n",
       "      <td>0.525822</td>\n",
       "      <td>0.65593</td>\n",
       "      <td>-0.373383</td>\n",
       "      <td>0.533709</td>\n",
       "      <td>0.9551</td>\n",
       "    </tr>\n",
       "    <tr>\n",
       "      <th>X101B88</th>\n",
       "      <td>-0.712117</td>\n",
       "      <td>0.108554</td>\n",
       "      <td>-0.329813</td>\n",
       "      <td>-0.50856</td>\n",
       "      <td>0.750269</td>\n",
       "      <td>-0.739374</td>\n",
       "      <td>-0.635076</td>\n",
       "      <td>0.404148</td>\n",
       "      <td>0.553476</td>\n",
       "      <td>0.111349</td>\n",
       "      <td>...</td>\n",
       "      <td>0.34349</td>\n",
       "      <td>-0.37717</td>\n",
       "      <td>-0.146836</td>\n",
       "      <td>-0.027103</td>\n",
       "      <td>0.108189</td>\n",
       "      <td>-0.108456</td>\n",
       "      <td>0.800626</td>\n",
       "      <td>0.047387</td>\n",
       "      <td>-0.630866</td>\n",
       "      <td>0.550008</td>\n",
       "    </tr>\n",
       "    <tr>\n",
       "      <th>X102B06</th>\n",
       "      <td>-0.249024</td>\n",
       "      <td>0.529916</td>\n",
       "      <td>-0.45556</td>\n",
       "      <td>0.056202</td>\n",
       "      <td>0.469504</td>\n",
       "      <td>0.436696</td>\n",
       "      <td>0.253222</td>\n",
       "      <td>0.236894</td>\n",
       "      <td>0.263844</td>\n",
       "      <td>-0.744438</td>\n",
       "      <td>...</td>\n",
       "      <td>-1.192292</td>\n",
       "      <td>-0.264924</td>\n",
       "      <td>-0.403073</td>\n",
       "      <td>-0.273291</td>\n",
       "      <td>0.408303</td>\n",
       "      <td>0.256424</td>\n",
       "      <td>0.052404</td>\n",
       "      <td>-0.076766</td>\n",
       "      <td>0.170939</td>\n",
       "      <td>-0.016254</td>\n",
       "    </tr>\n",
       "    <tr>\n",
       "      <th>X103B41</th>\n",
       "      <td>0.473394</td>\n",
       "      <td>-0.023698</td>\n",
       "      <td>0.335867</td>\n",
       "      <td>-0.011279</td>\n",
       "      <td>-0.182406</td>\n",
       "      <td>0.913891</td>\n",
       "      <td>0.134585</td>\n",
       "      <td>0.468412</td>\n",
       "      <td>0.508557</td>\n",
       "      <td>0.727947</td>\n",
       "      <td>...</td>\n",
       "      <td>0.233813</td>\n",
       "      <td>-0.182134</td>\n",
       "      <td>-0.132613</td>\n",
       "      <td>0.314508</td>\n",
       "      <td>0.147834</td>\n",
       "      <td>-0.766659</td>\n",
       "      <td>-1.517961</td>\n",
       "      <td>0.487872</td>\n",
       "      <td>0.394624</td>\n",
       "      <td>0.440938</td>\n",
       "    </tr>\n",
       "    <tr>\n",
       "      <th>X104B91</th>\n",
       "      <td>-0.549072</td>\n",
       "      <td>-0.240675</td>\n",
       "      <td>0.091474</td>\n",
       "      <td>0.189046</td>\n",
       "      <td>-0.47226</td>\n",
       "      <td>1.184845</td>\n",
       "      <td>0.204097</td>\n",
       "      <td>0.397236</td>\n",
       "      <td>0.10732</td>\n",
       "      <td>-0.384178</td>\n",
       "      <td>...</td>\n",
       "      <td>-0.063716</td>\n",
       "      <td>-0.051118</td>\n",
       "      <td>-0.149773</td>\n",
       "      <td>-0.304061</td>\n",
       "      <td>-1.229899</td>\n",
       "      <td>-0.000545</td>\n",
       "      <td>0.574513</td>\n",
       "      <td>0.597032</td>\n",
       "      <td>0.196972</td>\n",
       "      <td>0.120323</td>\n",
       "    </tr>\n",
       "  </tbody>\n",
       "</table>\n",
       "<p>5 rows × 24711 columns</p>\n",
       "</div>"
      ],
      "text/plain": [
       "        211050_x_at 220399_at 202115_s_at 224501_at 227347_x_at 205483_s_at  \\\n",
       "X100B08   -0.606098  0.297762    -0.02072  0.019116    0.217003   -0.959766   \n",
       "X101B88   -0.712117  0.108554   -0.329813  -0.50856    0.750269   -0.739374   \n",
       "X102B06   -0.249024  0.529916    -0.45556  0.056202    0.469504    0.436696   \n",
       "X103B41    0.473394 -0.023698    0.335867 -0.011279   -0.182406    0.913891   \n",
       "X104B91   -0.549072 -0.240675    0.091474  0.189046    -0.47226    1.184845   \n",
       "\n",
       "        212283_at 212285_s_at 217419_x_at 217410_at  ... 216922_x_at  \\\n",
       "X100B08   0.31906    0.267431    0.054625  0.285226  ...    0.585269   \n",
       "X101B88 -0.635076    0.404148    0.553476  0.111349  ...     0.34349   \n",
       "X102B06  0.253222    0.236894    0.263844 -0.744438  ...   -1.192292   \n",
       "X103B41  0.134585    0.468412    0.508557  0.727947  ...    0.233813   \n",
       "X104B91  0.204097    0.397236     0.10732 -0.384178  ...   -0.063716   \n",
       "\n",
       "        208331_at 211461_at 232402_at 207647_at 207646_s_at 207916_at  \\\n",
       "X100B08  0.677886  0.294886  0.334739 -0.922423    0.525822   0.65593   \n",
       "X101B88  -0.37717 -0.146836 -0.027103  0.108189   -0.108456  0.800626   \n",
       "X102B06 -0.264924 -0.403073 -0.273291  0.408303    0.256424  0.052404   \n",
       "X103B41 -0.182134 -0.132613  0.314508  0.147834   -0.766659 -1.517961   \n",
       "X104B91 -0.051118 -0.149773 -0.304061 -1.229899   -0.000545  0.574513   \n",
       "\n",
       "        202829_s_at 214950_at 208164_s_at  \n",
       "X100B08   -0.373383  0.533709      0.9551  \n",
       "X101B88    0.047387 -0.630866    0.550008  \n",
       "X102B06   -0.076766  0.170939   -0.016254  \n",
       "X103B41    0.487872  0.394624    0.440938  \n",
       "X104B91    0.597032  0.196972    0.120323  \n",
       "\n",
       "[5 rows x 24711 columns]"
      ]
     },
     "execution_count": 11,
     "metadata": {},
     "output_type": "execute_result"
    }
   ],
   "source": [
    "genom.head()"
   ]
  },
  {
   "cell_type": "code",
   "execution_count": 12,
   "id": "5b0fb41d",
   "metadata": {},
   "outputs": [
    {
     "name": "stdout",
     "output_type": "stream",
     "text": [
      "<class 'pandas.core.frame.DataFrame'>\n",
      "Index: 251 entries, X100B08 to X9B52\n",
      "Columns: 24711 entries, 211050_x_at to 208164_s_at\n",
      "dtypes: object(24711)\n",
      "memory usage: 47.3+ MB\n"
     ]
    }
   ],
   "source": [
    "genom.info()"
   ]
  },
  {
   "cell_type": "code",
   "execution_count": 13,
   "id": "0bb1af77",
   "metadata": {},
   "outputs": [],
   "source": [
    "genom['AgeAtDiagnosis'] = pheno['AgeAtDiagnosis'].values # adding the potential output variable to the genes dataset"
   ]
  },
  {
   "cell_type": "markdown",
   "id": "1dd38b77",
   "metadata": {},
   "source": [
    "**Checking for Null Values**"
   ]
  },
  {
   "cell_type": "code",
   "execution_count": 14,
   "id": "13f74b96",
   "metadata": {},
   "outputs": [
    {
     "data": {
      "text/plain": [
       "211050_x_at       0\n",
       "220399_at         0\n",
       "202115_s_at       0\n",
       "224501_at         0\n",
       "227347_x_at       0\n",
       "                 ..\n",
       "207916_at         0\n",
       "202829_s_at       0\n",
       "214950_at         0\n",
       "208164_s_at       0\n",
       "AgeAtDiagnosis    0\n",
       "Length: 24712, dtype: int64"
      ]
     },
     "execution_count": 14,
     "metadata": {},
     "output_type": "execute_result"
    }
   ],
   "source": [
    "genom.isna().sum()"
   ]
  },
  {
   "cell_type": "code",
   "execution_count": 15,
   "id": "f52037d7",
   "metadata": {},
   "outputs": [
    {
     "data": {
      "text/plain": [
       "<seaborn.axisgrid.FacetGrid at 0x1f61c3636a0>"
      ]
     },
     "execution_count": 15,
     "metadata": {},
     "output_type": "execute_result"
    },
    {
     "data": {
      "image/png": "[encoded data removed]",
      "text/plain": [
       "<Figure size 360x360 with 1 Axes>"
      ]
     },
     "metadata": {
      "needs_background": "light"
     },
     "output_type": "display_data"
    }
   ],
   "source": [
    "sns.displot(genom['AgeAtDiagnosis'])  # to check if age column has outliers "
   ]
  },
  {
   "cell_type": "code",
   "execution_count": 16,
   "id": "6263b648",
   "metadata": {},
   "outputs": [],
   "source": [
    "updated_genom = genom.drop('AgeAtDiagnosis',axis=1) #dropping the target variable for normalization"
   ]
  },
  {
   "cell_type": "code",
   "execution_count": 17,
   "id": "4defc428",
   "metadata": {},
   "outputs": [
    {
     "data": {
      "text/plain": [
       "(251, 24711)"
      ]
     },
     "execution_count": 17,
     "metadata": {},
     "output_type": "execute_result"
    }
   ],
   "source": [
    "updated_genom.shape"
   ]
  },
  {
   "cell_type": "markdown",
   "id": "464e7408",
   "metadata": {},
   "source": [
    "**Data Normalization**"
   ]
  },
  {
   "cell_type": "code",
   "execution_count": 18,
   "id": "6d78ba63",
   "metadata": {},
   "outputs": [
    {
     "data": {
      "text/html": [
       "<div>\n",
       "<style scoped>\n",
       "    .dataframe tbody tr th:only-of-type {\n",
       "        vertical-align: middle;\n",
       "    }\n",
       "\n",
       "    .dataframe tbody tr th {\n",
       "        vertical-align: top;\n",
       "    }\n",
       "\n",
       "    .dataframe thead th {\n",
       "        text-align: right;\n",
       "    }\n",
       "</style>\n",
       "<table border=\"1\" class=\"dataframe\">\n",
       "  <thead>\n",
       "    <tr style=\"text-align: right;\">\n",
       "      <th></th>\n",
       "      <th>211050_x_at</th>\n",
       "      <th>220399_at</th>\n",
       "      <th>202115_s_at</th>\n",
       "      <th>224501_at</th>\n",
       "      <th>227347_x_at</th>\n",
       "      <th>205483_s_at</th>\n",
       "      <th>212283_at</th>\n",
       "      <th>212285_s_at</th>\n",
       "      <th>217419_x_at</th>\n",
       "      <th>217410_at</th>\n",
       "      <th>...</th>\n",
       "      <th>216922_x_at</th>\n",
       "      <th>208331_at</th>\n",
       "      <th>211461_at</th>\n",
       "      <th>232402_at</th>\n",
       "      <th>207647_at</th>\n",
       "      <th>207646_s_at</th>\n",
       "      <th>207916_at</th>\n",
       "      <th>202829_s_at</th>\n",
       "      <th>214950_at</th>\n",
       "      <th>208164_s_at</th>\n",
       "    </tr>\n",
       "  </thead>\n",
       "  <tbody>\n",
       "    <tr>\n",
       "      <th>0</th>\n",
       "      <td>0.099960</td>\n",
       "      <td>0.664563</td>\n",
       "      <td>0.562653</td>\n",
       "      <td>0.384392</td>\n",
       "      <td>0.717470</td>\n",
       "      <td>0.245858</td>\n",
       "      <td>0.776556</td>\n",
       "      <td>0.657473</td>\n",
       "      <td>0.526237</td>\n",
       "      <td>0.703414</td>\n",
       "      <td>...</td>\n",
       "      <td>0.900654</td>\n",
       "      <td>0.666379</td>\n",
       "      <td>0.587091</td>\n",
       "      <td>0.472368</td>\n",
       "      <td>0.425627</td>\n",
       "      <td>0.799137</td>\n",
       "      <td>0.786029</td>\n",
       "      <td>0.180478</td>\n",
       "      <td>0.856956</td>\n",
       "      <td>0.881233</td>\n",
       "    </tr>\n",
       "    <tr>\n",
       "      <th>1</th>\n",
       "      <td>0.062299</td>\n",
       "      <td>0.603485</td>\n",
       "      <td>0.367333</td>\n",
       "      <td>0.153851</td>\n",
       "      <td>0.855080</td>\n",
       "      <td>0.295311</td>\n",
       "      <td>0.371200</td>\n",
       "      <td>0.721069</td>\n",
       "      <td>0.739936</td>\n",
       "      <td>0.625089</td>\n",
       "      <td>...</td>\n",
       "      <td>0.799054</td>\n",
       "      <td>0.226660</td>\n",
       "      <td>0.328070</td>\n",
       "      <td>0.334572</td>\n",
       "      <td>0.632347</td>\n",
       "      <td>0.586170</td>\n",
       "      <td>0.829331</td>\n",
       "      <td>0.403767</td>\n",
       "      <td>0.487282</td>\n",
       "      <td>0.742746</td>\n",
       "    </tr>\n",
       "    <tr>\n",
       "      <th>2</th>\n",
       "      <td>0.226805</td>\n",
       "      <td>0.739504</td>\n",
       "      <td>0.287872</td>\n",
       "      <td>0.400594</td>\n",
       "      <td>0.782628</td>\n",
       "      <td>0.559204</td>\n",
       "      <td>0.748586</td>\n",
       "      <td>0.643268</td>\n",
       "      <td>0.615863</td>\n",
       "      <td>0.239591</td>\n",
       "      <td>...</td>\n",
       "      <td>0.153691</td>\n",
       "      <td>0.273441</td>\n",
       "      <td>0.177815</td>\n",
       "      <td>0.240819</td>\n",
       "      <td>0.692544</td>\n",
       "      <td>0.708683</td>\n",
       "      <td>0.605418</td>\n",
       "      <td>0.337883</td>\n",
       "      <td>0.741801</td>\n",
       "      <td>0.549159</td>\n",
       "    </tr>\n",
       "    <tr>\n",
       "      <th>3</th>\n",
       "      <td>0.483433</td>\n",
       "      <td>0.560793</td>\n",
       "      <td>0.787985</td>\n",
       "      <td>0.371112</td>\n",
       "      <td>0.614402</td>\n",
       "      <td>0.666279</td>\n",
       "      <td>0.698183</td>\n",
       "      <td>0.750962</td>\n",
       "      <td>0.720693</td>\n",
       "      <td>0.902842</td>\n",
       "      <td>...</td>\n",
       "      <td>0.752966</td>\n",
       "      <td>0.307946</td>\n",
       "      <td>0.336410</td>\n",
       "      <td>0.464664</td>\n",
       "      <td>0.640299</td>\n",
       "      <td>0.365170</td>\n",
       "      <td>0.135469</td>\n",
       "      <td>0.637519</td>\n",
       "      <td>0.812806</td>\n",
       "      <td>0.705458</td>\n",
       "    </tr>\n",
       "    <tr>\n",
       "      <th>4</th>\n",
       "      <td>0.120218</td>\n",
       "      <td>0.490751</td>\n",
       "      <td>0.633550</td>\n",
       "      <td>0.458633</td>\n",
       "      <td>0.539604</td>\n",
       "      <td>0.727078</td>\n",
       "      <td>0.727715</td>\n",
       "      <td>0.717854</td>\n",
       "      <td>0.548811</td>\n",
       "      <td>0.401874</td>\n",
       "      <td>...</td>\n",
       "      <td>0.627939</td>\n",
       "      <td>0.362550</td>\n",
       "      <td>0.326348</td>\n",
       "      <td>0.229101</td>\n",
       "      <td>0.363954</td>\n",
       "      <td>0.622402</td>\n",
       "      <td>0.761665</td>\n",
       "      <td>0.695446</td>\n",
       "      <td>0.750065</td>\n",
       "      <td>0.595851</td>\n",
       "    </tr>\n",
       "  </tbody>\n",
       "</table>\n",
       "<p>5 rows × 24711 columns</p>\n",
       "</div>"
      ],
      "text/plain": [
       "   211050_x_at  220399_at  202115_s_at  224501_at  227347_x_at  205483_s_at  \\\n",
       "0     0.099960   0.664563     0.562653   0.384392     0.717470     0.245858   \n",
       "1     0.062299   0.603485     0.367333   0.153851     0.855080     0.295311   \n",
       "2     0.226805   0.739504     0.287872   0.400594     0.782628     0.559204   \n",
       "3     0.483433   0.560793     0.787985   0.371112     0.614402     0.666279   \n",
       "4     0.120218   0.490751     0.633550   0.458633     0.539604     0.727078   \n",
       "\n",
       "   212283_at  212285_s_at  217419_x_at  217410_at  ...  216922_x_at  \\\n",
       "0   0.776556     0.657473     0.526237   0.703414  ...     0.900654   \n",
       "1   0.371200     0.721069     0.739936   0.625089  ...     0.799054   \n",
       "2   0.748586     0.643268     0.615863   0.239591  ...     0.153691   \n",
       "3   0.698183     0.750962     0.720693   0.902842  ...     0.752966   \n",
       "4   0.727715     0.717854     0.548811   0.401874  ...     0.627939   \n",
       "\n",
       "   208331_at  211461_at  232402_at  207647_at  207646_s_at  207916_at  \\\n",
       "0   0.666379   0.587091   0.472368   0.425627     0.799137   0.786029   \n",
       "1   0.226660   0.328070   0.334572   0.632347     0.586170   0.829331   \n",
       "2   0.273441   0.177815   0.240819   0.692544     0.708683   0.605418   \n",
       "3   0.307946   0.336410   0.464664   0.640299     0.365170   0.135469   \n",
       "4   0.362550   0.326348   0.229101   0.363954     0.622402   0.761665   \n",
       "\n",
       "   202829_s_at  214950_at  208164_s_at  \n",
       "0     0.180478   0.856956     0.881233  \n",
       "1     0.403767   0.487282     0.742746  \n",
       "2     0.337883   0.741801     0.549159  \n",
       "3     0.637519   0.812806     0.705458  \n",
       "4     0.695446   0.750065     0.595851  \n",
       "\n",
       "[5 rows x 24711 columns]"
      ]
     },
     "execution_count": 18,
     "metadata": {},
     "output_type": "execute_result"
    }
   ],
   "source": [
    "scaler = preprocessing.MinMaxScaler() # used to convert all values between 0 to 1\n",
    "names = updated_genom.columns\n",
    "d = scaler.fit_transform(updated_genom)\n",
    "scaled_df = pd.DataFrame(d, columns=names)\n",
    "scaled_df.head()"
   ]
  },
  {
   "cell_type": "code",
   "execution_count": null,
   "id": "1e4c7981",
   "metadata": {},
   "outputs": [],
   "source": []
  },
  {
   "cell_type": "code",
   "execution_count": null,
   "id": "aeed300c",
   "metadata": {},
   "outputs": [],
   "source": []
  },
  {
   "cell_type": "markdown",
   "id": "945423b6",
   "metadata": {},
   "source": [
    "**Feature Selection**"
   ]
  },
  {
   "cell_type": "code",
   "execution_count": 19,
   "id": "b874e396",
   "metadata": {},
   "outputs": [
    {
     "name": "stdout",
     "output_type": "stream",
     "text": [
      "[0.00000000e+00 0.00000000e+00 1.48063910e-05 ... 2.22903723e-06\n",
      " 0.00000000e+00 1.04021737e-06]\n"
     ]
    }
   ],
   "source": [
    "model = ExtraTreesRegressor()\n",
    "model.fit(scaled_df,genom['AgeAtDiagnosis'])\n",
    "print(model.feature_importances_) #use inbuilt class feature_importances of tree based classifiers"
   ]
  },
  {
   "cell_type": "code",
   "execution_count": 20,
   "id": "d380af1b",
   "metadata": {},
   "outputs": [],
   "source": [
    "d1 = {'Features': scaled_df.columns, 'Scores':model.feature_importances_}"
   ]
  },
  {
   "cell_type": "code",
   "execution_count": 21,
   "id": "402f7154",
   "metadata": {},
   "outputs": [],
   "source": [
    "scores = pd.DataFrame(d1)"
   ]
  },
  {
   "cell_type": "code",
   "execution_count": 22,
   "id": "b42ea3db",
   "metadata": {},
   "outputs": [],
   "source": [
    "scores = scores.sort_values('Scores',ascending=False)"
   ]
  },
  {
   "cell_type": "code",
   "execution_count": 23,
   "id": "f2d36668",
   "metadata": {},
   "outputs": [],
   "source": [
    "scores['Scores'] = scores['Scores'].round(4)"
   ]
  },
  {
   "cell_type": "code",
   "execution_count": 24,
   "id": "be80cb0f",
   "metadata": {},
   "outputs": [
    {
     "data": {
      "text/html": [
       "<div>\n",
       "<style scoped>\n",
       "    .dataframe tbody tr th:only-of-type {\n",
       "        vertical-align: middle;\n",
       "    }\n",
       "\n",
       "    .dataframe tbody tr th {\n",
       "        vertical-align: top;\n",
       "    }\n",
       "\n",
       "    .dataframe thead th {\n",
       "        text-align: right;\n",
       "    }\n",
       "</style>\n",
       "<table border=\"1\" class=\"dataframe\">\n",
       "  <thead>\n",
       "    <tr style=\"text-align: right;\">\n",
       "      <th></th>\n",
       "      <th>Features</th>\n",
       "      <th>Scores</th>\n",
       "    </tr>\n",
       "  </thead>\n",
       "  <tbody>\n",
       "    <tr>\n",
       "      <th>20257</th>\n",
       "      <td>205225_at</td>\n",
       "      <td>0.0267</td>\n",
       "    </tr>\n",
       "    <tr>\n",
       "      <th>20035</th>\n",
       "      <td>204165_at</td>\n",
       "      <td>0.0145</td>\n",
       "    </tr>\n",
       "    <tr>\n",
       "      <th>16220</th>\n",
       "      <td>222125_s_at</td>\n",
       "      <td>0.0141</td>\n",
       "    </tr>\n",
       "    <tr>\n",
       "      <th>20261</th>\n",
       "      <td>211233_x_at</td>\n",
       "      <td>0.0106</td>\n",
       "    </tr>\n",
       "    <tr>\n",
       "      <th>20264</th>\n",
       "      <td>217190_x_at</td>\n",
       "      <td>0.0096</td>\n",
       "    </tr>\n",
       "  </tbody>\n",
       "</table>\n",
       "</div>"
      ],
      "text/plain": [
       "          Features  Scores\n",
       "20257    205225_at  0.0267\n",
       "20035    204165_at  0.0145\n",
       "16220  222125_s_at  0.0141\n",
       "20261  211233_x_at  0.0106\n",
       "20264  217190_x_at  0.0096"
      ]
     },
     "execution_count": 24,
     "metadata": {},
     "output_type": "execute_result"
    }
   ],
   "source": [
    "scores.head()"
   ]
  },
  {
   "cell_type": "code",
   "execution_count": null,
   "id": "47fdae17",
   "metadata": {},
   "outputs": [],
   "source": []
  },
  {
   "cell_type": "code",
   "execution_count": 25,
   "id": "50cdb88a",
   "metadata": {},
   "outputs": [],
   "source": [
    "df_imp = scores[scores['Scores'] > 0.0] # eliminating features with score 0"
   ]
  },
  {
   "cell_type": "code",
   "execution_count": 26,
   "id": "b77d512b",
   "metadata": {},
   "outputs": [
    {
     "data": {
      "text/html": [
       "<div>\n",
       "<style scoped>\n",
       "    .dataframe tbody tr th:only-of-type {\n",
       "        vertical-align: middle;\n",
       "    }\n",
       "\n",
       "    .dataframe tbody tr th {\n",
       "        vertical-align: top;\n",
       "    }\n",
       "\n",
       "    .dataframe thead th {\n",
       "        text-align: right;\n",
       "    }\n",
       "</style>\n",
       "<table border=\"1\" class=\"dataframe\">\n",
       "  <thead>\n",
       "    <tr style=\"text-align: right;\">\n",
       "      <th></th>\n",
       "      <th>Features</th>\n",
       "      <th>Scores</th>\n",
       "    </tr>\n",
       "  </thead>\n",
       "  <tbody>\n",
       "    <tr>\n",
       "      <th>20257</th>\n",
       "      <td>205225_at</td>\n",
       "      <td>0.0267</td>\n",
       "    </tr>\n",
       "    <tr>\n",
       "      <th>20035</th>\n",
       "      <td>204165_at</td>\n",
       "      <td>0.0145</td>\n",
       "    </tr>\n",
       "    <tr>\n",
       "      <th>16220</th>\n",
       "      <td>222125_s_at</td>\n",
       "      <td>0.0141</td>\n",
       "    </tr>\n",
       "    <tr>\n",
       "      <th>20261</th>\n",
       "      <td>211233_x_at</td>\n",
       "      <td>0.0106</td>\n",
       "    </tr>\n",
       "    <tr>\n",
       "      <th>20264</th>\n",
       "      <td>217190_x_at</td>\n",
       "      <td>0.0096</td>\n",
       "    </tr>\n",
       "  </tbody>\n",
       "</table>\n",
       "</div>"
      ],
      "text/plain": [
       "          Features  Scores\n",
       "20257    205225_at  0.0267\n",
       "20035    204165_at  0.0145\n",
       "16220  222125_s_at  0.0141\n",
       "20261  211233_x_at  0.0106\n",
       "20264  217190_x_at  0.0096"
      ]
     },
     "execution_count": 26,
     "metadata": {},
     "output_type": "execute_result"
    }
   ],
   "source": [
    "df_imp.head()"
   ]
  },
  {
   "cell_type": "code",
   "execution_count": 27,
   "id": "289a6f50",
   "metadata": {},
   "outputs": [],
   "source": [
    "imp_cols = list(df_imp['Features'][:])"
   ]
  },
  {
   "cell_type": "code",
   "execution_count": 28,
   "id": "4027ad17",
   "metadata": {},
   "outputs": [
    {
     "data": {
      "text/plain": [
       "2919"
      ]
     },
     "execution_count": 28,
     "metadata": {},
     "output_type": "execute_result"
    }
   ],
   "source": [
    "len(imp_cols)"
   ]
  },
  {
   "cell_type": "code",
   "execution_count": 29,
   "id": "d3e56399",
   "metadata": {},
   "outputs": [],
   "source": [
    "final_data = scaled_df[list(imp_cols)]"
   ]
  },
  {
   "cell_type": "code",
   "execution_count": 30,
   "id": "12c5ed02",
   "metadata": {},
   "outputs": [
    {
     "data": {
      "text/html": [
       "<div>\n",
       "<style scoped>\n",
       "    .dataframe tbody tr th:only-of-type {\n",
       "        vertical-align: middle;\n",
       "    }\n",
       "\n",
       "    .dataframe tbody tr th {\n",
       "        vertical-align: top;\n",
       "    }\n",
       "\n",
       "    .dataframe thead th {\n",
       "        text-align: right;\n",
       "    }\n",
       "</style>\n",
       "<table border=\"1\" class=\"dataframe\">\n",
       "  <thead>\n",
       "    <tr style=\"text-align: right;\">\n",
       "      <th></th>\n",
       "      <th>205225_at</th>\n",
       "      <th>204165_at</th>\n",
       "      <th>222125_s_at</th>\n",
       "      <th>211233_x_at</th>\n",
       "      <th>217190_x_at</th>\n",
       "      <th>215552_s_at</th>\n",
       "      <th>211234_x_at</th>\n",
       "      <th>213674_x_at</th>\n",
       "      <th>204981_at</th>\n",
       "      <th>201658_at</th>\n",
       "      <th>...</th>\n",
       "      <th>224472_x_at</th>\n",
       "      <th>213661_at</th>\n",
       "      <th>202872_at</th>\n",
       "      <th>207009_at</th>\n",
       "      <th>241705_at</th>\n",
       "      <th>202926_at</th>\n",
       "      <th>220267_at</th>\n",
       "      <th>206263_at</th>\n",
       "      <th>238187_at</th>\n",
       "      <th>211718_at</th>\n",
       "    </tr>\n",
       "  </thead>\n",
       "  <tbody>\n",
       "    <tr>\n",
       "      <th>0</th>\n",
       "      <td>0.857215</td>\n",
       "      <td>0.550850</td>\n",
       "      <td>0.441849</td>\n",
       "      <td>0.332207</td>\n",
       "      <td>0.197973</td>\n",
       "      <td>0.427815</td>\n",
       "      <td>0.445979</td>\n",
       "      <td>0.318053</td>\n",
       "      <td>0.541744</td>\n",
       "      <td>0.445636</td>\n",
       "      <td>...</td>\n",
       "      <td>0.271016</td>\n",
       "      <td>0.941916</td>\n",
       "      <td>0.331599</td>\n",
       "      <td>0.780463</td>\n",
       "      <td>0.413873</td>\n",
       "      <td>0.523538</td>\n",
       "      <td>0.458880</td>\n",
       "      <td>0.298723</td>\n",
       "      <td>0.433034</td>\n",
       "      <td>0.232225</td>\n",
       "    </tr>\n",
       "    <tr>\n",
       "      <th>1</th>\n",
       "      <td>0.140083</td>\n",
       "      <td>0.774031</td>\n",
       "      <td>0.032213</td>\n",
       "      <td>0.190636</td>\n",
       "      <td>0.011184</td>\n",
       "      <td>0.070711</td>\n",
       "      <td>0.096640</td>\n",
       "      <td>0.201582</td>\n",
       "      <td>0.361542</td>\n",
       "      <td>0.277523</td>\n",
       "      <td>...</td>\n",
       "      <td>0.259022</td>\n",
       "      <td>0.376908</td>\n",
       "      <td>0.526447</td>\n",
       "      <td>0.755512</td>\n",
       "      <td>0.185255</td>\n",
       "      <td>0.507182</td>\n",
       "      <td>0.372669</td>\n",
       "      <td>0.242400</td>\n",
       "      <td>0.279443</td>\n",
       "      <td>0.863152</td>\n",
       "    </tr>\n",
       "    <tr>\n",
       "      <th>2</th>\n",
       "      <td>0.343106</td>\n",
       "      <td>0.645901</td>\n",
       "      <td>0.379965</td>\n",
       "      <td>0.389460</td>\n",
       "      <td>0.561131</td>\n",
       "      <td>0.379205</td>\n",
       "      <td>0.440578</td>\n",
       "      <td>0.404452</td>\n",
       "      <td>0.392672</td>\n",
       "      <td>0.669799</td>\n",
       "      <td>...</td>\n",
       "      <td>0.507634</td>\n",
       "      <td>0.543077</td>\n",
       "      <td>0.219609</td>\n",
       "      <td>0.860727</td>\n",
       "      <td>0.248268</td>\n",
       "      <td>0.691294</td>\n",
       "      <td>0.505349</td>\n",
       "      <td>0.315355</td>\n",
       "      <td>0.426725</td>\n",
       "      <td>0.774338</td>\n",
       "    </tr>\n",
       "    <tr>\n",
       "      <th>3</th>\n",
       "      <td>0.135383</td>\n",
       "      <td>0.461381</td>\n",
       "      <td>0.154960</td>\n",
       "      <td>0.588482</td>\n",
       "      <td>0.527286</td>\n",
       "      <td>0.352320</td>\n",
       "      <td>0.383359</td>\n",
       "      <td>0.826634</td>\n",
       "      <td>0.182570</td>\n",
       "      <td>0.322324</td>\n",
       "      <td>...</td>\n",
       "      <td>0.527429</td>\n",
       "      <td>0.228373</td>\n",
       "      <td>0.556683</td>\n",
       "      <td>0.937930</td>\n",
       "      <td>0.694511</td>\n",
       "      <td>0.574131</td>\n",
       "      <td>0.366351</td>\n",
       "      <td>0.091095</td>\n",
       "      <td>0.393525</td>\n",
       "      <td>0.534383</td>\n",
       "    </tr>\n",
       "    <tr>\n",
       "      <th>4</th>\n",
       "      <td>0.886196</td>\n",
       "      <td>0.447524</td>\n",
       "      <td>0.211480</td>\n",
       "      <td>0.662139</td>\n",
       "      <td>0.268134</td>\n",
       "      <td>0.636633</td>\n",
       "      <td>0.618434</td>\n",
       "      <td>0.371135</td>\n",
       "      <td>0.576232</td>\n",
       "      <td>0.391618</td>\n",
       "      <td>...</td>\n",
       "      <td>0.449079</td>\n",
       "      <td>0.362237</td>\n",
       "      <td>0.711199</td>\n",
       "      <td>0.410176</td>\n",
       "      <td>0.634115</td>\n",
       "      <td>0.566823</td>\n",
       "      <td>0.313774</td>\n",
       "      <td>0.297817</td>\n",
       "      <td>0.203729</td>\n",
       "      <td>0.000000</td>\n",
       "    </tr>\n",
       "  </tbody>\n",
       "</table>\n",
       "<p>5 rows × 2919 columns</p>\n",
       "</div>"
      ],
      "text/plain": [
       "   205225_at  204165_at  222125_s_at  211233_x_at  217190_x_at  215552_s_at  \\\n",
       "0   0.857215   0.550850     0.441849     0.332207     0.197973     0.427815   \n",
       "1   0.140083   0.774031     0.032213     0.190636     0.011184     0.070711   \n",
       "2   0.343106   0.645901     0.379965     0.389460     0.561131     0.379205   \n",
       "3   0.135383   0.461381     0.154960     0.588482     0.527286     0.352320   \n",
       "4   0.886196   0.447524     0.211480     0.662139     0.268134     0.636633   \n",
       "\n",
       "   211234_x_at  213674_x_at  204981_at  201658_at  ...  224472_x_at  \\\n",
       "0     0.445979     0.318053   0.541744   0.445636  ...     0.271016   \n",
       "1     0.096640     0.201582   0.361542   0.277523  ...     0.259022   \n",
       "2     0.440578     0.404452   0.392672   0.669799  ...     0.507634   \n",
       "3     0.383359     0.826634   0.182570   0.322324  ...     0.527429   \n",
       "4     0.618434     0.371135   0.576232   0.391618  ...     0.449079   \n",
       "\n",
       "   213661_at  202872_at  207009_at  241705_at  202926_at  220267_at  \\\n",
       "0   0.941916   0.331599   0.780463   0.413873   0.523538   0.458880   \n",
       "1   0.376908   0.526447   0.755512   0.185255   0.507182   0.372669   \n",
       "2   0.543077   0.219609   0.860727   0.248268   0.691294   0.505349   \n",
       "3   0.228373   0.556683   0.937930   0.694511   0.574131   0.366351   \n",
       "4   0.362237   0.711199   0.410176   0.634115   0.566823   0.313774   \n",
       "\n",
       "   206263_at  238187_at  211718_at  \n",
       "0   0.298723   0.433034   0.232225  \n",
       "1   0.242400   0.279443   0.863152  \n",
       "2   0.315355   0.426725   0.774338  \n",
       "3   0.091095   0.393525   0.534383  \n",
       "4   0.297817   0.203729   0.000000  \n",
       "\n",
       "[5 rows x 2919 columns]"
      ]
     },
     "execution_count": 30,
     "metadata": {},
     "output_type": "execute_result"
    }
   ],
   "source": [
    "final_data.head()"
   ]
  },
  {
   "cell_type": "code",
   "execution_count": 31,
   "id": "18e2d3ff",
   "metadata": {},
   "outputs": [],
   "source": [
    "X = final_data"
   ]
  },
  {
   "cell_type": "code",
   "execution_count": 32,
   "id": "d66e2279",
   "metadata": {},
   "outputs": [],
   "source": [
    "y = genom['AgeAtDiagnosis'] "
   ]
  },
  {
   "cell_type": "markdown",
   "id": "8f708e16",
   "metadata": {},
   "source": [
    "**Splitting the data into train and test sets**"
   ]
  },
  {
   "cell_type": "code",
   "execution_count": 33,
   "id": "f6575b37",
   "metadata": {},
   "outputs": [],
   "source": [
    "X_train,X_test,y_train,y_test = train_test_split(X,y,test_size=0.20,random_state=33) "
   ]
  },
  {
   "cell_type": "code",
   "execution_count": null,
   "id": "05d52b19",
   "metadata": {},
   "outputs": [],
   "source": []
  },
  {
   "cell_type": "markdown",
   "id": "d0588e19",
   "metadata": {},
   "source": [
    "**Random Forest**"
   ]
  },
  {
   "cell_type": "code",
   "execution_count": 37,
   "id": "813e5a1e",
   "metadata": {},
   "outputs": [],
   "source": [
    "from sklearn.ensemble import RandomForestRegressor\n",
    "from sklearn.model_selection import GridSearchCV"
   ]
  },
  {
   "cell_type": "code",
   "execution_count": 40,
   "id": "fab54137",
   "metadata": {},
   "outputs": [],
   "source": [
    "rfc=RandomForestRegressor(random_state=42)"
   ]
  },
  {
   "cell_type": "code",
   "execution_count": 44,
   "id": "5288c7d4",
   "metadata": {},
   "outputs": [],
   "source": [
    "param_grid = { \n",
    "    'n_estimators': [100, 200, 400],\n",
    "    'max_features': ['auto', 'sqrt', 'log2'],\n",
    "    'max_depth' : [4,5,6],\n",
    "#     'criterion' :['gini', 'entropy']\n",
    "}"
   ]
  },
  {
   "cell_type": "code",
   "execution_count": 45,
   "id": "95dfb299",
   "metadata": {},
   "outputs": [
    {
     "data": {
      "text/plain": [
       "GridSearchCV(cv=5, estimator=RandomForestRegressor(random_state=42),\n",
       "             param_grid={'max_depth': [4, 5, 6],\n",
       "                         'max_features': ['auto', 'sqrt', 'log2'],\n",
       "                         'n_estimators': [100, 200, 400]})"
      ]
     },
     "execution_count": 45,
     "metadata": {},
     "output_type": "execute_result"
    }
   ],
   "source": [
    "CV_rfc = GridSearchCV(estimator=rfc, param_grid=param_grid, cv= 5)\n",
    "CV_rfc.fit(X_train, y_train)"
   ]
  },
  {
   "cell_type": "code",
   "execution_count": 47,
   "id": "569a9a07",
   "metadata": {},
   "outputs": [
    {
     "data": {
      "text/plain": [
       "{'max_depth': 6, 'max_features': 'auto', 'n_estimators': 400}"
      ]
     },
     "execution_count": 47,
     "metadata": {},
     "output_type": "execute_result"
    }
   ],
   "source": [
    "CV_rfc.best_params_"
   ]
  },
  {
   "cell_type": "code",
   "execution_count": null,
   "id": "5b7a6f49",
   "metadata": {},
   "outputs": [],
   "source": []
  },
  {
   "cell_type": "code",
   "execution_count": null,
   "id": "b7be6523",
   "metadata": {},
   "outputs": [],
   "source": []
  },
  {
   "cell_type": "code",
   "execution_count": 48,
   "id": "94aace8d",
   "metadata": {},
   "outputs": [],
   "source": [
    "rf = RandomForestRegressor(n_estimators=400,max_depth=6,max_features='auto') "
   ]
  },
  {
   "cell_type": "code",
   "execution_count": 49,
   "id": "bb871caa",
   "metadata": {},
   "outputs": [
    {
     "data": {
      "text/plain": [
       "RandomForestRegressor(max_depth=6, n_estimators=400)"
      ]
     },
     "execution_count": 49,
     "metadata": {},
     "output_type": "execute_result"
    }
   ],
   "source": [
    "rf.fit(X_train,y_train)"
   ]
  },
  {
   "cell_type": "code",
   "execution_count": 50,
   "id": "9619d97f",
   "metadata": {},
   "outputs": [],
   "source": [
    "rf_preds = rf.predict(X_test)"
   ]
  },
  {
   "cell_type": "code",
   "execution_count": 51,
   "id": "82711af7",
   "metadata": {},
   "outputs": [],
   "source": [
    "rf_results = r2_score(y_test,rf_preds) "
   ]
  },
  {
   "cell_type": "code",
   "execution_count": 52,
   "id": "06d9b39d",
   "metadata": {},
   "outputs": [
    {
     "data": {
      "text/plain": [
       "0.23045860689755548"
      ]
     },
     "execution_count": 52,
     "metadata": {},
     "output_type": "execute_result"
    }
   ],
   "source": [
    "rf_results"
   ]
  },
  {
   "cell_type": "markdown",
   "id": "39d7e4b8",
   "metadata": {},
   "source": [
    "**Linear Regression**"
   ]
  },
  {
   "cell_type": "code",
   "execution_count": null,
   "id": "c869d9c7",
   "metadata": {},
   "outputs": [],
   "source": [
    "lr = LinearRegression()"
   ]
  },
  {
   "cell_type": "code",
   "execution_count": null,
   "id": "36aa18db",
   "metadata": {},
   "outputs": [],
   "source": [
    "lr.fit(X_train,y_train)"
   ]
  },
  {
   "cell_type": "code",
   "execution_count": null,
   "id": "64b0decd",
   "metadata": {},
   "outputs": [],
   "source": [
    "lr_preds = lr.predict(X_test)"
   ]
  },
  {
   "cell_type": "code",
   "execution_count": null,
   "id": "65bf3846",
   "metadata": {},
   "outputs": [],
   "source": [
    "lr_results = r2_score(y_test,lr_preds)"
   ]
  },
  {
   "cell_type": "code",
   "execution_count": null,
   "id": "a08ef85b",
   "metadata": {},
   "outputs": [],
   "source": [
    "lr_results"
   ]
  },
  {
   "cell_type": "code",
   "execution_count": null,
   "id": "3d8f6124",
   "metadata": {},
   "outputs": [],
   "source": []
  },
  {
   "cell_type": "markdown",
   "id": "7b7e6a0e",
   "metadata": {},
   "source": [
    "**XGBoost**"
   ]
  },
  {
   "cell_type": "code",
   "execution_count": null,
   "id": "c422aece",
   "metadata": {},
   "outputs": [],
   "source": [
    "xgb = XGBRegressor()"
   ]
  },
  {
   "cell_type": "code",
   "execution_count": null,
   "id": "57f4a73e",
   "metadata": {},
   "outputs": [],
   "source": [
    "xgb.fit(X_train,y_train)"
   ]
  },
  {
   "cell_type": "code",
   "execution_count": null,
   "id": "e5257bb2",
   "metadata": {},
   "outputs": [],
   "source": [
    "xgb_preds = xgb.predict(X_test)"
   ]
  },
  {
   "cell_type": "code",
   "execution_count": null,
   "id": "8de7a7f3",
   "metadata": {},
   "outputs": [],
   "source": [
    "xgb_results = r2_score(y_test,xgb_preds)"
   ]
  },
  {
   "cell_type": "code",
   "execution_count": null,
   "id": "4e928c30",
   "metadata": {},
   "outputs": [],
   "source": [
    "xgb_results"
   ]
  },
  {
   "cell_type": "code",
   "execution_count": null,
   "id": "e726cef5",
   "metadata": {},
   "outputs": [],
   "source": []
  },
  {
   "cell_type": "markdown",
   "id": "a95e527c",
   "metadata": {},
   "source": [
    "**Support Vector Machine**"
   ]
  },
  {
   "cell_type": "code",
   "execution_count": null,
   "id": "b4b1f5dd",
   "metadata": {},
   "outputs": [],
   "source": [
    "from sklearn.svm import SVR"
   ]
  },
  {
   "cell_type": "code",
   "execution_count": null,
   "id": "f064795b",
   "metadata": {},
   "outputs": [],
   "source": [
    "svm = SVR()"
   ]
  },
  {
   "cell_type": "code",
   "execution_count": null,
   "id": "5d0c46b0",
   "metadata": {},
   "outputs": [],
   "source": [
    "svm.fit(X_train, y_train)"
   ]
  },
  {
   "cell_type": "code",
   "execution_count": null,
   "id": "9b7a7452",
   "metadata": {},
   "outputs": [],
   "source": [
    "svm_preds = svm.predict(X_test)"
   ]
  },
  {
   "cell_type": "code",
   "execution_count": null,
   "id": "1470a119",
   "metadata": {},
   "outputs": [],
   "source": [
    "svm_results = r2_score(y_test,svm_preds)"
   ]
  },
  {
   "cell_type": "code",
   "execution_count": null,
   "id": "640c29f5",
   "metadata": {},
   "outputs": [],
   "source": [
    "svm_results"
   ]
  },
  {
   "cell_type": "code",
   "execution_count": null,
   "id": "cb438c22",
   "metadata": {},
   "outputs": [],
   "source": []
  },
  {
   "cell_type": "code",
   "execution_count": null,
   "id": "face7aaa",
   "metadata": {},
   "outputs": [],
   "source": []
  },
  {
   "cell_type": "code",
   "execution_count": null,
   "id": "583ddc64",
   "metadata": {},
   "outputs": [],
   "source": []
  },
  {
   "cell_type": "code",
   "execution_count": null,
   "id": "88554db9",
   "metadata": {},
   "outputs": [],
   "source": []
  }
 ],
 "metadata": {
  "kernelspec": {
   "display_name": "Python 3",
   "language": "python",
   "name": "python3"
  },
  "language_info": {
   "codemirror_mode": {
    "name": "ipython",
    "version": 3
   },
   "file_extension": ".py",
   "mimetype": "text/x-python",
   "name": "python",
   "nbconvert_exporter": "python",
   "pygments_lexer": "ipython3",
   "version": "3.8.8"
  }
 },
 "nbformat": 4,
 "nbformat_minor": 5
}
